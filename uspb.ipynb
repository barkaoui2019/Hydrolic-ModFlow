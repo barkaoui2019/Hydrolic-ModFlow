{
 "cells": [
  {
   "cell_type": "code",
   "execution_count": 1,
   "metadata": {},
   "outputs": [
    {
     "name": "stdout",
     "output_type": "stream",
     "text": [
      "flopy is installed in C:\\ProgramData\\Anaconda3\\lib\\site-packages\\flopy\n",
      "3.7.6 (default, Jan  8 2020, 20:23:39) [MSC v.1916 64 bit (AMD64)]\n",
      "numpy version: 1.18.1\n",
      "matplotlib version: 3.1.3\n",
      "flopy version: 3.3.0\n"
     ]
    }
   ],
   "source": [
    "import os\n",
    "import sys\n",
    "import numpy as np\n",
    "import scipy.ndimage\n",
    "import matplotlib as mpl\n",
    "import matplotlib.pyplot as plt\n",
    "import flopy\n",
    "\n",
    "print(sys.version)\n",
    "print('numpy version: {}'.format(np.__version__))\n",
    "print('matplotlib version: {}'.format(mpl.__version__))\n",
    "print('flopy version: {}'.format(flopy.__version__))"
   ]
  },
  {
   "cell_type": "code",
   "execution_count": 2,
   "metadata": {},
   "outputs": [],
   "source": [
    "ws = os.path.join('temp')\n",
    "if not os.path.exists(ws):\n",
    "    os.makedirs(ws)"
   ]
  },
  {
   "cell_type": "code",
   "execution_count": 3,
   "metadata": {},
   "outputs": [
    {
     "name": "stdout",
     "output_type": "stream",
     "text": [
      "(110, 80)\n"
     ]
    }
   ],
   "source": [
    "fn = os.path.join('..', 'uspb', 'results', 'USPB_capture_fraction_04_01.dat')\n",
    "cf = np.loadtxt(fn)\n",
    "print(cf.shape)"
   ]
  },
  {
   "cell_type": "code",
   "execution_count": 4,
   "metadata": {},
   "outputs": [
    {
     "name": "stdout",
     "output_type": "stream",
     "text": [
      "(440, 320)\n"
     ]
    }
   ],
   "source": [
    "cf2 = scipy.ndimage.zoom(cf, 4, order=0)\n",
    "print(cf2.shape)"
   ]
  },
  {
   "cell_type": "code",
   "execution_count": 5,
   "metadata": {},
   "outputs": [
    {
     "data": {
      "image/png": "[encoded data removed]",
      "text/plain": [
       "<Figure size 432x288 with 2 Axes>"
      ]
     },
     "metadata": {
      "needs_background": "light"
     },
     "output_type": "display_data"
    }
   ],
   "source": [
    "c = plt.imshow(cf2, cmap='jet')\n",
    "plt.colorbar(c);"
   ]
  },
  {
   "cell_type": "code",
   "execution_count": 6,
   "metadata": {},
   "outputs": [],
   "source": [
    "wsl = os.path.join('..', 'uspb', 'flopy')\n",
    "ml = flopy.modflow.Modflow.load('DG.nam', model_ws=wsl, verbose=False)"
   ]
  },
  {
   "cell_type": "code",
   "execution_count": 7,
   "metadata": {},
   "outputs": [],
   "source": [
    "nlay, nrow, ncol = ml.nlay, ml.dis.nrow, ml.dis.ncol\n",
    "xmax, ymax = ncol * 250., nrow * 250."
   ]
  },
  {
   "cell_type": "code",
   "execution_count": 8,
   "metadata": {},
   "outputs": [
    {
     "name": "stderr",
     "output_type": "stream",
     "text": [
      "C:\\ProgramData\\Anaconda3\\lib\\site-packages\\flopy\\plot\\map.py:525: FutureWarning: Using a non-tuple sequence for multidimensional indexing is deprecated; use `arr[tuple(seq)]` instead of `arr[seq]`. In the future this will be interpreted as an array index, `arr[np.array(seq)]`, which will result either in an error or a different result.\n",
      "  pa[list(idx[1:])] = 1\n"
     ]
    },
    {
     "data": {
      "image/png": "[encoded data removed]",
      "text/plain": [
       "<Figure size 234x321.84 with 2 Axes>"
      ]
     },
     "metadata": {
      "needs_background": "light"
     },
     "output_type": "display_data"
    }
   ],
   "source": [
    "plt.rcParams.update({'font.size': 6})\n",
    "fig = plt.figure(figsize=(3.25,4.47))\n",
    "ax1 = plt.gca()\n",
    "ax1.set_aspect('equal')\n",
    "mm1 = flopy.plot.PlotMapView(model=ml, layer=4)\n",
    "plt.xlim(0, xmax)\n",
    "plt.ylim(0, ymax)\n",
    "mm1.plot_inactive(color_noflow='0.75')\n",
    "c = plt.imshow(cf2, cmap='jet', extent=[0, ncol*250., 0, nrow*250.])\n",
    "cb = plt.colorbar(c, shrink=0.5)\n",
    "cb.ax.set_ylabel('Layer 4 capture fraction')\n",
    "mm1.plot_bc(ftype='STR', plotAll=True)\n",
    "plt.plot([-10000], [-10000], marker='s', ms=10, lw=0.0, mec='0.2', mfc='white', \n",
    "         label='Maximum active model extent')\n",
    "plt.plot([-10000,0], [-10000,0], color='purple', lw=0.75, label='STR reaches (all layers)')\n",
    "leg = plt.legend(loc='upper left', numpoints=1, prop={'size':6})\n",
    "leg.draw_frame(False)\n",
    "plt.xticks([0, 20000, 40000, 60000, 80000])\n",
    "plt.tight_layout()\n",
    "plt.savefig(os.path.join(ws, 'capture_fraction_010y.png'), dpi=300);"
   ]
  },
  {
   "cell_type": "markdown",
   "metadata": {},
   "source": [
    "Rerun the model after changing workspace and writing input files"
   ]
  },
  {
   "cell_type": "code",
   "execution_count": 9,
   "metadata": {},
   "outputs": [
    {
     "name": "stdout",
     "output_type": "stream",
     "text": [
      "\n",
      "changing model workspace...\n",
      "   temp\n"
     ]
    },
    {
     "ename": "Exception",
     "evalue": "The program mf2005dbl does not exist or is not executable.",
     "output_type": "error",
     "traceback": [
      "\u001b[1;31m---------------------------------------------------------------------------\u001b[0m",
      "\u001b[1;31mException\u001b[0m                                 Traceback (most recent call last)",
      "\u001b[1;32m<ipython-input-9-029da707e167>\u001b[0m in \u001b[0;36m<module>\u001b[1;34m\u001b[0m\n\u001b[0;32m      2\u001b[0m \u001b[0mml\u001b[0m\u001b[1;33m.\u001b[0m\u001b[0mexe_name\u001b[0m \u001b[1;33m=\u001b[0m \u001b[1;34m'mf2005dbl'\u001b[0m\u001b[1;33m\u001b[0m\u001b[1;33m\u001b[0m\u001b[0m\n\u001b[0;32m      3\u001b[0m \u001b[0mml\u001b[0m\u001b[1;33m.\u001b[0m\u001b[0mwrite_input\u001b[0m\u001b[1;33m(\u001b[0m\u001b[1;33m)\u001b[0m\u001b[1;33m\u001b[0m\u001b[1;33m\u001b[0m\u001b[0m\n\u001b[1;32m----> 4\u001b[1;33m \u001b[0mml\u001b[0m\u001b[1;33m.\u001b[0m\u001b[0mrun_model\u001b[0m\u001b[1;33m(\u001b[0m\u001b[0msilent\u001b[0m\u001b[1;33m=\u001b[0m\u001b[1;32mTrue\u001b[0m\u001b[1;33m)\u001b[0m\u001b[1;33m\u001b[0m\u001b[1;33m\u001b[0m\u001b[0m\n\u001b[0m",
      "\u001b[1;32mC:\\ProgramData\\Anaconda3\\lib\\site-packages\\flopy\\mbase.py\u001b[0m in \u001b[0;36mrun_model\u001b[1;34m(self, silent, pause, report, normal_msg)\u001b[0m\n\u001b[0;32m   1222\u001b[0m         return run_model(self.exe_name, self.namefile, model_ws=self.model_ws,\n\u001b[0;32m   1223\u001b[0m                          \u001b[0msilent\u001b[0m\u001b[1;33m=\u001b[0m\u001b[0msilent\u001b[0m\u001b[1;33m,\u001b[0m \u001b[0mpause\u001b[0m\u001b[1;33m=\u001b[0m\u001b[0mpause\u001b[0m\u001b[1;33m,\u001b[0m \u001b[0mreport\u001b[0m\u001b[1;33m=\u001b[0m\u001b[0mreport\u001b[0m\u001b[1;33m,\u001b[0m\u001b[1;33m\u001b[0m\u001b[1;33m\u001b[0m\u001b[0m\n\u001b[1;32m-> 1224\u001b[1;33m                          normal_msg=normal_msg)\n\u001b[0m\u001b[0;32m   1225\u001b[0m \u001b[1;33m\u001b[0m\u001b[0m\n\u001b[0;32m   1226\u001b[0m     \u001b[1;32mdef\u001b[0m \u001b[0mload_results\u001b[0m\u001b[1;33m(\u001b[0m\u001b[0mself\u001b[0m\u001b[1;33m)\u001b[0m\u001b[1;33m:\u001b[0m\u001b[1;33m\u001b[0m\u001b[1;33m\u001b[0m\u001b[0m\n",
      "\u001b[1;32mC:\\ProgramData\\Anaconda3\\lib\\site-packages\\flopy\\mbase.py\u001b[0m in \u001b[0;36mrun_model\u001b[1;34m(exe_name, namefile, model_ws, silent, pause, report, normal_msg, use_async, cargs)\u001b[0m\n\u001b[0;32m   1566\u001b[0m         s = 'The program {} does not exist or is not executable.'.format(\n\u001b[0;32m   1567\u001b[0m             exe_name)\n\u001b[1;32m-> 1568\u001b[1;33m         \u001b[1;32mraise\u001b[0m \u001b[0mException\u001b[0m\u001b[1;33m(\u001b[0m\u001b[0ms\u001b[0m\u001b[1;33m)\u001b[0m\u001b[1;33m\u001b[0m\u001b[1;33m\u001b[0m\u001b[0m\n\u001b[0m\u001b[0;32m   1569\u001b[0m     \u001b[1;32melse\u001b[0m\u001b[1;33m:\u001b[0m\u001b[1;33m\u001b[0m\u001b[1;33m\u001b[0m\u001b[0m\n\u001b[0;32m   1570\u001b[0m         \u001b[1;32mif\u001b[0m \u001b[1;32mnot\u001b[0m \u001b[0msilent\u001b[0m\u001b[1;33m:\u001b[0m\u001b[1;33m\u001b[0m\u001b[1;33m\u001b[0m\u001b[0m\n",
      "\u001b[1;31mException\u001b[0m: The program mf2005dbl does not exist or is not executable."
     ]
    }
   ],
   "source": [
    "ml.change_model_ws(ws)\n",
    "ml.exe_name = 'mf2005dbl'\n",
    "ml.write_input()\n",
    "ml.run_model(silent=True)"
   ]
  },
  {
   "cell_type": "code",
   "execution_count": null,
   "metadata": {},
   "outputs": [],
   "source": [
    "hedObj = flopy.utils.HeadFile(os.path.join(ws, 'DG.hds'), precision='double')\n",
    "h = hedObj.get_data(kstpkper=(0,0))\n",
    "cbcObj = flopy.utils.CellBudgetFile(os.path.join(ws, 'DG.cbc'), precision='double')\n",
    "\n",
    "frf = cbcObj.get_data(kstpkper=(0,0), text='FLOW RIGHT FACE')[0]\n",
    "fff = cbcObj.get_data(kstpkper=(0,0), text='FLOW FRONT FACE')[0]"
   ]
  },
  {
   "cell_type": "code",
   "execution_count": null,
   "metadata": {},
   "outputs": [],
   "source": [
    "cnt = np.arange(1200, 1700, 100)\n",
    "f, (ax1, ax2) = plt.subplots(1, 2, figsize=(6.75, 4.47))\n",
    "ax1.set_xlim(0, xmax)\n",
    "ax1.set_ylim(0, ymax)\n",
    "ax2.set_xlim(0, xmax)\n",
    "ax2.set_ylim(0, ymax)\n",
    "ax1.set_aspect('equal')\n",
    "ax2.set_aspect('equal')\n",
    "\n",
    "mm1 = flopy.plot.PlotMapView(model=ml, ax=ax1, layer=3)\n",
    "h1 = mm1.plot_array(h, masked_values=[-888, -999], vmin=1100, vmax=1700)\n",
    "mm1.plot_inactive(color_noflow='0.75')\n",
    "mm1.plot_bc(ftype='STR')\n",
    "q1 = mm1.plot_discharge(frf, fff, istep=5, jstep=5, normalize=True, \n",
    "                        color='0.4', scale=70,\n",
    "                        headwidth=3, headlength=3, headaxislength=3)\n",
    "c1 = mm1.contour_array(h, masked_values=[-888, -999], colors='black', levels=cnt, \n",
    "                       linewidths=0.5)\n",
    "ax1.clabel(c1, fmt='%.0f', inline_spacing=0.5)\n",
    "\n",
    "mm2 = flopy.plot.PlotMapView(model=ml, ax=ax2, layer=4)\n",
    "h2 = mm2.plot_array(h, masked_values=[-888, -999], vmin=1100, vmax=1700)\n",
    "mm2.plot_inactive(color_noflow='0.75')\n",
    "mm2.plot_bc(ftype='STR')\n",
    "q2 = mm2.plot_discharge(frf, fff, istep=5, jstep=5, normalize=True, \n",
    "                        color='0.4', scale=70,\n",
    "                        headwidth=3, headlength=3, headaxislength=3)\n",
    "c2 = mm2.contour_array(h, masked_values=[-888, -999], colors='black', levels=cnt, \n",
    "                       linewidths=0.5)\n",
    "ax2.clabel(c2, fmt='%.0f', inline_spacing=0.5)\n",
    "\n",
    "ax3 = f.add_axes([0.08, 0.125, 0.01, 0.15])\n",
    "cb = plt.colorbar(h2, cax=ax3)\n",
    "cb.ax.set_ylabel('Simulated head, m')\n",
    "\n",
    "ax1.plot([-10000,0], [-10000,0], color='purple', lw=0.75, label='STR reaches')\n",
    "ax1.plot([-10000], [-10000], marker='s', ms=10, lw=0.0, mec='black', mfc='None', \n",
    "         label='inactive areas')\n",
    "leg = ax1.legend(loc='upper left', numpoints=1, prop={'size':6})\n",
    "leg.draw_frame(False)\n",
    "\n",
    "ax1.text(0.0, 1.01, 'Model layer 4', ha='left', va='bottom',\n",
    "         transform=ax1.transAxes)\n",
    "ax2.text(0.98, 0.02, '100 m contour interval', ha='right', va='bottom',\n",
    "         transform=ax2.transAxes)\n",
    "ax2.text(0.0, 1.01, 'Model layer 5', ha='left', va='bottom',\n",
    "         transform=ax2.transAxes)\n",
    "\n",
    "f.tight_layout()\n",
    "plt.savefig(os.path.join(ws, 'uspb_heads.png'), dpi=300);"
   ]
  },
  {
   "cell_type": "code",
   "execution_count": null,
   "metadata": {},
   "outputs": [],
   "source": [
    "fn = os.path.join('..', 'uspb', 'results', 'USPB_capture_fraction_04_10.dat')\n",
    "cf = np.loadtxt(fn)\n",
    "cf2 = scipy.ndimage.zoom(cf, 4, order=0)"
   ]
  },
  {
   "cell_type": "code",
   "execution_count": null,
   "metadata": {},
   "outputs": [],
   "source": [
    "fig = plt.figure(figsize=(3.25,4.47))\n",
    "ax1 = plt.gca()\n",
    "ax1.set_aspect('equal')\n",
    "mm1 = flopy.plot.PlotMapView(model=ml, layer=4)\n",
    "plt.xlim(0, xmax)\n",
    "plt.ylim(0, ymax)\n",
    "mm1.plot_inactive(color_noflow='0.75')\n",
    "c = plt.imshow(cf2, cmap='jet', extent=[0, ncol*250., 0, nrow*250.])\n",
    "cb = plt.colorbar(c, shrink=0.5)\n",
    "cb.ax.set_ylabel('Layer 4 capture fraction')\n",
    "mm1.plot_bc(ftype='STR', plotAll=True)\n",
    "plt.plot([-10000,0], [-10000,0], color='purple', lw=0.75, label='STR reaches (all layers)')\n",
    "plt.plot([-10000], [-10000], marker='s', ms=10, lw=0.0, mec='black', mfc='None', \n",
    "         label='Layer 5 inactive area')\n",
    "leg = plt.legend(loc='upper left', numpoints=1, prop={'size':6})\n",
    "leg.draw_frame(False)\n",
    "plt.xticks([0, 20000, 40000, 60000, 80000])\n",
    "plt.tight_layout()\n",
    "plt.savefig(os.path.join(ws, 'capture_fraction_100y.png'), dpi=300);"
   ]
  },
  {
   "cell_type": "code",
   "execution_count": null,
   "metadata": {},
   "outputs": [],
   "source": []
  }
 ],
 "metadata": {
  "kernelspec": {
   "display_name": "Python 3",
   "language": "python",
   "name": "python3"
  },
  "language_info": {
   "codemirror_mode": {
    "name": "ipython",
    "version": 3
   },
   "file_extension": ".py",
   "mimetype": "text/x-python",
   "name": "python",
   "nbconvert_exporter": "python",
   "pygments_lexer": "ipython3",
   "version": "3.7.6"
  }
 },
 "nbformat": 4,
 "nbformat_minor": 1
}
